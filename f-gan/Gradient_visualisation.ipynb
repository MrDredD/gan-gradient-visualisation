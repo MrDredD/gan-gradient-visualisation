{
  "cells": [
    {
      "cell_type": "code",
      "source": [
        "import torch\n",
        "import torchvision\n",
        "import torchvision.transforms as transforms\n",
        "import torchvision.utils as vutils\n",
        "\n",
        "\n",
        "import matplotlib.pyplot as plt\n",
        "import numpy as np\n",
        "import random\n",
        "import math\n",
        "\n",
        "import os\n",
        "from torch.utils.data import DataLoader\n",
        "from torchvision.datasets import ImageFolder\n",
        "import torchvision.transforms as T"
      ],
      "metadata": {
        "id": "P-ugqpPCYDrQ"
      },
      "id": "P-ugqpPCYDrQ",
      "execution_count": 2,
      "outputs": []
    },
    {
      "cell_type": "code",
      "execution_count": 3,
      "id": "1111cf0f",
      "metadata": {
        "id": "1111cf0f"
      },
      "outputs": [],
      "source": [
        "import os\n",
        "import torch\n",
        "import utils\n",
        "from pathlib import Path\n",
        "from torch.utils.data import DataLoader\n",
        "from tqdm import tqdm\n",
        "import torch.nn as nn\n",
        "import torch.optim as optim\n",
        "from torchvision.utils import save_image\n",
        "import matplotlib.pyplot as plt"
      ]
    },
    {
      "cell_type": "code",
      "source": [
        "class Q(nn.Module):\n",
        "  def __init__(self):\n",
        "    super(Q,self).__init__()\n",
        "    self.projection_z = fc_bn_layer(latent_dim,s_h16*s_w16*gf_dim*8)\n",
        "\n",
        "    self.theta_params = nn.Sequential(\n",
        "    tconv_bn_layer(gf_dim*8,gf_dim*4,4,stride=2,padding=1),\n",
        "    nn.ReLU(),\n",
        "    tconv_bn_layer(gf_dim*4,gf_dim*2,4,stride=2,padding=1),\n",
        "    nn.ReLU(),\n",
        "    tconv_bn_layer(gf_dim*2,gf_dim,4,stride=2,padding=1),\n",
        "    nn.ReLU(),\n",
        "    tconv_layer(gf_dim,c_dim,4,stride=2,padding=1),\n",
        "    nn.Tanh()\n",
        "    )\n",
        "    \n",
        "  def forward(self, x):\n",
        "    x = F.relu(self.projection_z(x).view(-1,gf_dim*8,s_h16,s_w16))\n",
        "    x =  self.theta_params(x)\n",
        "    return x"
      ],
      "metadata": {
        "id": "dt1Z-XjiVsJM"
      },
      "id": "dt1Z-XjiVsJM",
      "execution_count": 4,
      "outputs": []
    },
    {
      "cell_type": "code",
      "source": [
        "class V(nn.Module):\n",
        "  def __init__(self): \n",
        "    super(V,self).__init__()\n",
        "    self.w_params = nn.Sequential (\n",
        "        conv_layer(c_dim,df_dim,4,stride=2,padding=1),\n",
        "        nn.LeakyReLU(0.1),\n",
        "        conv_bn_layer(df_dim,df_dim*2,4,stride=2,padding=1),\n",
        "        nn.LeakyReLU(0.1),\n",
        "        conv_bn_layer(df_dim*2,df_dim*4,4,stride=2,padding=1),\n",
        "        nn.LeakyReLU(0.1),\n",
        "        conv_bn_layer(df_dim*4,df_dim*8,4,stride=2,padding=1),\n",
        "        nn.LeakyReLU(0.1),\n",
        "        nn.Flatten(1),\n",
        "        fc_layer(df_dim*8*s_h16*s_w16,1)\n",
        "    )\n",
        "\n",
        "  def forward(self, x):\n",
        "    x = self.w_params(x)\n",
        "    return x"
      ],
      "metadata": {
        "id": "gaiDI_K6V8s8"
      },
      "id": "gaiDI_K6V8s8",
      "execution_count": 5,
      "outputs": []
    },
    {
      "cell_type": "code",
      "source": [
        "def weights_init(m):\n",
        "  classname = m.__class__.__name__\n",
        "  if classname.find('Conv')!=-1 or classname.find('Linear')!=-1:\n",
        "    nn.init.normal_(m.weight.data,0.0,0.02)\n",
        "  elif classname.find('BatchNorm')!=-1:\n",
        "    nn.init.normal_(m.weight.data,1.0,0.02)\n",
        "    nn.init.constant_(m.bias.data,0)\n",
        "\n"
      ],
      "metadata": {
        "id": "CmI2oudcWCR3"
      },
      "id": "CmI2oudcWCR3",
      "execution_count": 6,
      "outputs": []
    },
    {
      "cell_type": "code",
      "source": [
        "PATH = os.path.join(os.getcwd(),'data')\n",
        "log_PATH = os.path.join(os.getcwd(), \"logs_3\")\n",
        "\n",
        "divergence = \"CHI\" # GAN, KLD, JSD, RKL,SQH, CHI \n",
        "modelName = \"f-GAN-\"+divergence\n",
        "batch_size =128\n",
        "workers = 3\n",
        "epochs = 200\n",
        "\n",
        "latent_dim =100\n",
        "\n",
        "gf_dim = 64\n",
        "df_dim = 64\n",
        "\n",
        "in_h = 64\n",
        "in_w =64\n",
        "c_dim = 3\n",
        "\n",
        "TINY = 1e-6\n",
        "\n",
        "device = torch.device(\"cuda\" if torch.cuda.is_available() else \"cpu\")\n",
        "\n",
        "manualSeed = 3734\n",
        "print(\"Random Seed: \",manualSeed)\n",
        "random.seed(manualSeed)\n",
        "torch.manual_seed(manualSeed)"
      ],
      "metadata": {
        "colab": {
          "base_uri": "https://localhost:8080/"
        },
        "id": "1VaA1XPRXb84",
        "outputId": "5427cccd-fb8c-4588-b717-5a63a98062b0"
      },
      "id": "1VaA1XPRXb84",
      "execution_count": 7,
      "outputs": [
        {
          "output_type": "stream",
          "name": "stdout",
          "text": [
            "Random Seed:  3734\n"
          ]
        },
        {
          "output_type": "execute_result",
          "data": {
            "text/plain": [
              "<torch._C.Generator at 0x7fc6f00b5590>"
            ]
          },
          "metadata": {},
          "execution_count": 7
        }
      ]
    },
    {
      "cell_type": "code",
      "source": [
        "image_size = 64\n",
        "batch_size = 128\n",
        "stats = (0.5, 0.5, 0.5), (0.5, 0.5, 0.5)\n",
        "\n",
        "train_ds = ImageFolder(\"archive/\", transform=T.Compose([\n",
        "    T.Resize(image_size),\n",
        "    T.CenterCrop(image_size),\n",
        "    T.ToTensor(),\n",
        "    T.Normalize(*stats)]))\n",
        "\n",
        "train_dl = DataLoader(train_ds, batch_size, shuffle=True, num_workers=2, pin_memory=True)"
      ],
      "metadata": {
        "id": "340qpwtJYbCI"
      },
      "id": "340qpwtJYbCI",
      "execution_count": 8,
      "outputs": []
    },
    {
      "cell_type": "code",
      "source": [
        "def get_default_device():\n",
        "    \"\"\"Pick GPU if available, else CPU\"\"\"\n",
        "    if torch.cuda.is_available():\n",
        "        return torch.device('cuda')\n",
        "    else:\n",
        "        return torch.device('cpu')\n",
        "    \n",
        "def to_device(data, device):\n",
        "    \"\"\"Move tensor(s) to chosen device\"\"\"\n",
        "    if isinstance(data, (list,tuple)):\n",
        "        return [to_device(x, device) for x in data]\n",
        "    return data.to(device, non_blocking=True)\n",
        "\n",
        "class DeviceDataLoader():\n",
        "    \"\"\"Wrap a dataloader to move data to a device\"\"\"\n",
        "    def __init__(self, dl, device):\n",
        "        self.dl = dl\n",
        "        self.device = device\n",
        "        \n",
        "    def __iter__(self):\n",
        "        \"\"\"Yield a batch of data after moving it to device\"\"\"\n",
        "        for b in self.dl: \n",
        "            yield to_device(b, self.device)\n",
        "\n",
        "    def __len__(self):\n",
        "        \"\"\"Number of batches\"\"\"\n",
        "        return len(self.dl)"
      ],
      "metadata": {
        "id": "4_laREhaYgi1"
      },
      "id": "4_laREhaYgi1",
      "execution_count": 9,
      "outputs": []
    },
    {
      "cell_type": "code",
      "source": [
        "def conv_bn_layer(in_channels,out_channels,kernel_size,stride=1,padding=0):\n",
        "    return nn.Sequential(\n",
        "        nn.Conv2d(in_channels,out_channels,kernel_size,stride=stride,padding=padding),\n",
        "        nn.BatchNorm2d(out_channels,momentum=0.1,eps=1e-5),\n",
        "    )\n",
        "def tconv_bn_layer(in_channels,out_channels,kernel_size,stride=1,padding=0):\n",
        "  return nn.Sequential(\n",
        "      nn.ConvTranspose2d(in_channels,out_channels,kernel_size,stride=stride,padding=padding),\n",
        "      nn.BatchNorm2d(out_channels,momentum=0.1,eps=1e-5),\n",
        "  )\n",
        "def tconv_layer(in_channels,out_channels,kernel_size,stride=1,padding=0):\n",
        "  return nn.ConvTranspose2d(in_channels,out_channels,kernel_size,stride=stride,padding=padding)\n",
        "\n",
        "def conv_layer(in_channels,out_channels,kernel_size,stride=1,padding=0):\n",
        "    return nn.Conv2d(in_channels,out_channels,kernel_size,stride=stride,padding=padding)\n",
        "\n",
        "def fc_layer(in_features,out_features):\n",
        "  return nn.Linear(in_features,out_features)\n",
        "\n",
        "def fc_bn_layer(in_features,out_features):\n",
        "  return nn.Sequential(\n",
        "      nn.Linear(in_features,out_features),\n",
        "      nn.BatchNorm1d(out_features)\n",
        "  )\n"
      ],
      "metadata": {
        "id": "IyfJXDmaZMFS"
      },
      "id": "IyfJXDmaZMFS",
      "execution_count": 10,
      "outputs": []
    },
    {
      "cell_type": "code",
      "source": [
        "def conv_out_size_same(size, stride):\n",
        "  return int(math.ceil(float(size) / float(stride)))\n",
        "s_h, s_w = in_h, in_w\n",
        "s_h2, s_w2 = conv_out_size_same(s_h, 2), conv_out_size_same(s_w, 2)\n",
        "s_h4, s_w4 = conv_out_size_same(s_h2, 2), conv_out_size_same(s_w2, 2)\n",
        "s_h8, s_w8 = conv_out_size_same(s_h4, 2), conv_out_size_same(s_w4, 2)\n",
        "s_h16, s_w16 = conv_out_size_same(s_h8, 2), conv_out_size_same(s_w8, 2)"
      ],
      "metadata": {
        "id": "n2n9dSYCZQpJ"
      },
      "id": "n2n9dSYCZQpJ",
      "execution_count": 11,
      "outputs": []
    },
    {
      "cell_type": "code",
      "source": [
        "class QLOSS(nn.Module):\n",
        "  def __init__(self,divergence=\"GAN\"):\n",
        "    super(QLOSS,self).__init__()\n",
        "    self.conjugate = Conjugate_f(divergence)\n",
        "    self.activation = Activation_g(divergence)\n",
        "  def forward(self,v):\n",
        "    return torch.mean(-self.conjugate(self.activation(v)))"
      ],
      "metadata": {
        "id": "9DPcUzlQapwY"
      },
      "id": "9DPcUzlQapwY",
      "execution_count": 12,
      "outputs": []
    },
    {
      "cell_type": "code",
      "source": [
        "class VLOSS(nn.Module):\n",
        "  def __init__(self,divergence=\"GAN\"):\n",
        "    super(VLOSS,self).__init__()\n",
        "    self.activation = Activation_g(divergence)\n",
        "  def forward(self,v):\n",
        "    return torch.mean(self.activation(v))"
      ],
      "metadata": {
        "id": "jbWc-2xfaoM2"
      },
      "id": "jbWc-2xfaoM2",
      "execution_count": 13,
      "outputs": []
    },
    {
      "cell_type": "code",
      "source": [
        "class Conjugate_f(nn.Module):\n",
        "  def __init__(self,divergence=\"GAN\"):\n",
        "    super(Conjugate_f,self).__init__()\n",
        "    self.divergence = divergence\n",
        "    self.div = 0\n",
        "  def ret_div(self):\n",
        "    return self.div\n",
        "  def forward(self,t):\n",
        "    divergence= self.divergence\n",
        "    if divergence == \"KLD\":\n",
        "      self.div = torch.exp(t-1)\n",
        "    elif divergence == \"RKL\":\n",
        "      return -1 -torch.log(-t)\n",
        "    elif divergence == \"CHI\":\n",
        "      self.div = 0.25*t**2+t\n",
        "      return 0.25*t**2+t\n",
        "    elif divergence == \"SQH\":\n",
        "      return t/(torch.tensor(1.)-t)\n",
        "    elif divergence == \"JSD\":\n",
        "      return -torch.log(2.0-torch.exp(t))\n",
        "    elif divergence == \"GAN\":\n",
        "      return  -torch.log(1.0-torch.exp(t))"
      ],
      "metadata": {
        "id": "ZKBzcRZRamdp"
      },
      "id": "ZKBzcRZRamdp",
      "execution_count": 14,
      "outputs": []
    },
    {
      "cell_type": "code",
      "source": [
        "class Activation_g(nn.Module):\n",
        "  def __init__(self,divergence=\"GAN\"):\n",
        "    super(Activation_g,self).__init__()\n",
        "    self.divergence =divergence\n",
        "    self.div = 0\n",
        "  def ret_div(self):\n",
        "    return self.div\n",
        "  def forward(self,v):\n",
        "    divergence = self.divergence\n",
        "    if divergence == \"KLD\":\n",
        "      return v\n",
        "    elif divergence == \"RKL\":\n",
        "      return -torch.exp(-v)\n",
        "    elif divergence == \"CHI\":\n",
        "      self.div = v\n",
        "      return v\n",
        "    elif divergence == \"SQH\":\n",
        "      return 1-torconfig.DEVICEch.exp(-v)\n",
        "    elif divergence == \"JSD\":\n",
        "      return torch.log(torch.tensor(2.))-torch.log(1.0+torch.exp(-v))\n",
        "    elif divergence == \"GAN\":\n",
        "      return -torch.log(1.0+torch.exp(-v)) # log sigmoid"
      ],
      "metadata": {
        "id": "evAplzCVakyB"
      },
      "id": "evAplzCVakyB",
      "execution_count": 15,
      "outputs": []
    },
    {
      "cell_type": "code",
      "source": [
        "import torch.optim as optim\n",
        "\n",
        "Q_net = Q().to(device)\n",
        "V_net = V().to(device)\n",
        "\n",
        "Q_criterion =QLOSS(divergence)\n",
        "V_criterion =VLOSS(divergence)\n",
        "\n",
        "Q_optimizer = optim.Adam(Q_net.parameters(),lr=2e-4,betas=(0.5,0.9))\n",
        "V_optimizer = optim.Adam(V_net.parameters(),lr=2e-4,betas=(0.5,0.9))\n",
        "\n",
        "fixed_noise = torch.randn(batch_size, latent_dim,device=device)"
      ],
      "metadata": {
        "id": "6NALqUgZXinw"
      },
      "id": "6NALqUgZXinw",
      "execution_count": 16,
      "outputs": []
    },
    {
      "cell_type": "code",
      "execution_count": 344,
      "id": "0e1aa71b",
      "metadata": {
        "id": "0e1aa71b"
      },
      "outputs": [],
      "source": [
        "epoch = 30\n",
        "utils.load_checkpoint(f'./log_fin/checkpoint/my_checkpoint_G_fin{epoch}.pth.tar', Q_net, Q_optimizer, 2e-4)\n",
        "utils.load_checkpoint(f'./log_fin/checkpoint/my_checkpoint_V_fin{epoch}.pth.tar', V_net, V_optimizer, 2e-4)"
      ]
    },
    {
      "cell_type": "code",
      "source": [
        "import torch.nn.functional as F"
      ],
      "metadata": {
        "id": "4fhbX0GC8g4R"
      },
      "id": "4fhbX0GC8g4R",
      "execution_count": 345,
      "outputs": []
    },
    {
      "cell_type": "code",
      "execution_count": 379,
      "id": "85cf2a8d",
      "metadata": {
        "id": "85cf2a8d"
      },
      "outputs": [],
      "source": [
        "fixed_noise = torch.randn(batch_size, latent_dim,device=device)\n",
        "fake = Q_net(fixed_noise)"
      ]
    },
    {
      "cell_type": "code",
      "execution_count": 380,
      "id": "1497637d",
      "metadata": {
        "id": "1497637d",
        "outputId": "e1e66ffa-ec6e-46f5-a985-d8684035c999",
        "colab": {
          "base_uri": "https://localhost:8080/",
          "height": 302
        }
      },
      "outputs": [
        {
          "output_type": "stream",
          "name": "stderr",
          "text": [
            "Clipping input data to the valid range for imshow with RGB data ([0..1] for floats or [0..255] for integers).\n"
          ]
        },
        {
          "output_type": "execute_result",
          "data": {
            "text/plain": [
              "<matplotlib.image.AxesImage at 0x7fc60451e8e0>"
            ]
          },
          "metadata": {},
          "execution_count": 380
        },
        {
          "output_type": "display_data",
          "data": {
            "text/plain": [
              "<Figure size 432x288 with 1 Axes>"
            ],
            "image/png": "[encoded data removed]"
          },
          "metadata": {
            "needs_background": "light"
          }
        }
      ],
      "source": [
        "plt.imshow(fake[0].cpu().detach().permute(1, 2, 0))"
      ]
    },
    {
      "cell_type": "code",
      "execution_count": 381,
      "id": "d3c2c6ee",
      "metadata": {
        "id": "d3c2c6ee"
      },
      "outputs": [],
      "source": [
        "etas = [0.001, 0.002, 0.006, 0.008, 0.01, 0.09, 0.1, 0.9]"
      ]
    },
    {
      "cell_type": "code",
      "execution_count": 382,
      "id": "da3ea389",
      "metadata": {
        "id": "da3ea389"
      },
      "outputs": [],
      "source": [
        "critic_fake = V_net(fake)"
      ]
    },
    {
      "cell_type": "code",
      "execution_count": 383,
      "id": "bf049d79",
      "metadata": {
        "id": "bf049d79"
      },
      "outputs": [],
      "source": [
        "gradients = torch.autograd.grad(outputs=critic_fake, inputs=fake,\n",
        "                              grad_outputs=torch.ones(critic_fake.size()).cuda(),\n",
        "                              create_graph=True, retain_graph=True, only_inputs=True)[0]"
      ]
    },
    {
      "cell_type": "code",
      "execution_count": 384,
      "id": "0988e066",
      "metadata": {
        "id": "0988e066",
        "outputId": "f592b92b-92fa-4743-fc4f-423090818d36",
        "colab": {
          "base_uri": "https://localhost:8080/"
        }
      },
      "outputs": [
        {
          "output_type": "execute_result",
          "data": {
            "text/plain": [
              "torch.Size([128, 3, 64, 64])"
            ]
          },
          "metadata": {},
          "execution_count": 384
        }
      ],
      "source": [
        "gradients.shape"
      ]
    },
    {
      "cell_type": "code",
      "source": [
        "log_PATH = os.path.join(os.getcwd(), \"images_fin\")"
      ],
      "metadata": {
        "id": "K0F1zabxA-rU"
      },
      "id": "K0F1zabxA-rU",
      "execution_count": 385,
      "outputs": []
    },
    {
      "cell_type": "code",
      "execution_count": 386,
      "id": "f4b23d22",
      "metadata": {
        "id": "f4b23d22"
      },
      "outputs": [],
      "source": [
        "new = []\n",
        "for eta in etas:\n",
        "    new.append(fake - gradients * eta)"
      ]
    },
    {
      "cell_type": "code",
      "execution_count": 387,
      "id": "18be2181",
      "metadata": {
        "id": "18be2181",
        "outputId": "0caeda86-3421-4a0f-ebcf-d2a6a86a540e",
        "colab": {
          "base_uri": "https://localhost:8080/",
          "height": 302
        }
      },
      "outputs": [
        {
          "output_type": "stream",
          "name": "stderr",
          "text": [
            "Clipping input data to the valid range for imshow with RGB data ([0..1] for floats or [0..255] for integers).\n"
          ]
        },
        {
          "output_type": "execute_result",
          "data": {
            "text/plain": [
              "<matplotlib.image.AxesImage at 0x7fc60447a6a0>"
            ]
          },
          "metadata": {},
          "execution_count": 387
        },
        {
          "output_type": "display_data",
          "data": {
            "text/plain": [
              "<Figure size 432x288 with 1 Axes>"
            ],
            "image/png": "[encoded data removed]"
          },
          "metadata": {
            "needs_background": "light"
          }
        }
      ],
      "source": [
        "plt.imshow(fake[0].cpu().detach().permute(1, 2, 0))\n"
      ]
    },
    {
      "cell_type": "code",
      "source": [
        "transform_PIL=transforms.ToPILImage()"
      ],
      "metadata": {
        "id": "CH902gaJB5nx"
      },
      "id": "CH902gaJB5nx",
      "execution_count": 355,
      "outputs": []
    },
    {
      "cell_type": "code",
      "execution_count": 388,
      "id": "ce5bb2b6",
      "metadata": {
        "id": "ce5bb2b6",
        "outputId": "8f417003-6012-4fc9-a016-009558ecca40",
        "colab": {
          "base_uri": "https://localhost:8080/",
          "height": 407
        }
      },
      "outputs": [
        {
          "output_type": "stream",
          "name": "stderr",
          "text": [
            "Clipping input data to the valid range for imshow with RGB data ([0..1] for floats or [0..255] for integers).\n",
            "Clipping input data to the valid range for imshow with RGB data ([0..1] for floats or [0..255] for integers).\n",
            "Clipping input data to the valid range for imshow with RGB data ([0..1] for floats or [0..255] for integers).\n",
            "Clipping input data to the valid range for imshow with RGB data ([0..1] for floats or [0..255] for integers).\n",
            "Clipping input data to the valid range for imshow with RGB data ([0..1] for floats or [0..255] for integers).\n",
            "Clipping input data to the valid range for imshow with RGB data ([0..1] for floats or [0..255] for integers).\n",
            "Clipping input data to the valid range for imshow with RGB data ([0..1] for floats or [0..255] for integers).\n",
            "Clipping input data to the valid range for imshow with RGB data ([0..1] for floats or [0..255] for integers).\n"
          ]
        },
        {
          "output_type": "display_data",
          "data": {
            "text/plain": [
              "<Figure size 432x288 with 1 Axes>"
            ],
            "image/png": "[encoded data removed]"
          },
          "metadata": {
            "needs_background": "light"
          }
        }
      ],
      "source": [
        "for i, news in enumerate(new):\n",
        "    im = vutils.make_grid(torch.reshape(news[0],(3,64,64))[:64], padding=2, normalize=True)\n",
        "    plt.imshow(news[0].cpu().detach().permute(1, 2, 0))\n",
        "    transform_PIL(im).save(os.path.join(log_PATH,'4'+str(epoch)+'_epoh_'+str(etas[i])+\"_eta_image.png\"))"
      ]
    },
    {
      "cell_type": "code",
      "source": [
        ""
      ],
      "metadata": {
        "id": "9PcYy0Om8q4F"
      },
      "id": "9PcYy0Om8q4F",
      "execution_count": null,
      "outputs": []
    }
  ],
  "metadata": {
    "kernelspec": {
      "display_name": "Python 3 (ipykernel)",
      "language": "python",
      "name": "python3"
    },
    "language_info": {
      "codemirror_mode": {
        "name": "ipython",
        "version": 3
      },
      "file_extension": ".py",
      "mimetype": "text/x-python",
      "name": "python",
      "nbconvert_exporter": "python",
      "pygments_lexer": "ipython3",
      "version": "3.9.7"
    },
    "colab": {
      "name": "Gradient_visualisation.ipynb",
      "provenance": []
    }
  },
  "nbformat": 4,
  "nbformat_minor": 5
}