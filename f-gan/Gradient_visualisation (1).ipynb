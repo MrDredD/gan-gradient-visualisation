{
 "cells": [
  {
   "cell_type": "code",
   "execution_count": 1,
   "id": "P-ugqpPCYDrQ",
   "metadata": {
    "id": "P-ugqpPCYDrQ"
   },
   "outputs": [],
   "source": [
    "import torch\n",
    "import torchvision\n",
    "import torchvision.transforms as transforms\n",
    "import torchvision.utils as vutils\n",
    "\n",
    "\n",
    "import matplotlib.pyplot as plt\n",
    "import numpy as np\n",
    "import random\n",
    "import math\n",
    "\n",
    "import os\n",
    "from torch.utils.data import DataLoader\n",
    "from torchvision.datasets import ImageFolder\n",
    "import torchvision.transforms as T"
   ]
  },
  {
   "cell_type": "code",
   "execution_count": 2,
   "id": "1111cf0f",
   "metadata": {
    "id": "1111cf0f"
   },
   "outputs": [],
   "source": [
    "import os\n",
    "import torch\n",
    "import utils\n",
    "from pathlib import Path\n",
    "from torch.utils.data import DataLoader\n",
    "from tqdm import tqdm\n",
    "import torch.nn as nn\n",
    "import torch.optim as optim\n",
    "from torchvision.utils import save_image\n",
    "import matplotlib.pyplot as plt"
   ]
  },
  {
   "cell_type": "code",
   "execution_count": 3,
   "id": "dt1Z-XjiVsJM",
   "metadata": {
    "id": "dt1Z-XjiVsJM"
   },
   "outputs": [],
   "source": [
    "class Q(nn.Module):\n",
    "  def __init__(self):\n",
    "    super(Q,self).__init__()\n",
    "    self.projection_z = fc_bn_layer(latent_dim,s_h16*s_w16*gf_dim*8)\n",
    "\n",
    "    self.theta_params = nn.Sequential(\n",
    "    tconv_bn_layer(gf_dim*8,gf_dim*4,4,stride=2,padding=1),\n",
    "    nn.ReLU(),\n",
    "    tconv_bn_layer(gf_dim*4,gf_dim*2,4,stride=2,padding=1),\n",
    "    nn.ReLU(),\n",
    "    tconv_bn_layer(gf_dim*2,gf_dim,4,stride=2,padding=1),\n",
    "    nn.ReLU(),\n",
    "    tconv_layer(gf_dim,c_dim,4,stride=2,padding=1),\n",
    "    nn.Tanh()\n",
    "    )\n",
    "    \n",
    "  def forward(self, x):\n",
    "    x = F.relu(self.projection_z(x).view(-1,gf_dim*8,s_h16,s_w16))\n",
    "    x =  self.theta_params(x)\n",
    "    return x"
   ]
  },
  {
   "cell_type": "code",
   "execution_count": 4,
   "id": "gaiDI_K6V8s8",
   "metadata": {
    "id": "gaiDI_K6V8s8"
   },
   "outputs": [],
   "source": [
    "class V(nn.Module):\n",
    "  def __init__(self): \n",
    "    super(V,self).__init__()\n",
    "    self.w_params = nn.Sequential (\n",
    "        conv_layer(c_dim,df_dim,4,stride=2,padding=1),\n",
    "        nn.LeakyReLU(0.1),\n",
    "        conv_bn_layer(df_dim,df_dim*2,4,stride=2,padding=1),\n",
    "        nn.LeakyReLU(0.1),\n",
    "        conv_bn_layer(df_dim*2,df_dim*4,4,stride=2,padding=1),\n",
    "        nn.LeakyReLU(0.1),\n",
    "        conv_bn_layer(df_dim*4,df_dim*8,4,stride=2,padding=1),\n",
    "        nn.LeakyReLU(0.1),\n",
    "        nn.Flatten(1),\n",
    "        fc_layer(df_dim*8*s_h16*s_w16,1)\n",
    "    )\n",
    "\n",
    "  def forward(self, x):\n",
    "    x = self.w_params(x)\n",
    "    return x"
   ]
  },
  {
   "cell_type": "code",
   "execution_count": 5,
   "id": "CmI2oudcWCR3",
   "metadata": {
    "id": "CmI2oudcWCR3"
   },
   "outputs": [],
   "source": [
    "def weights_init(m):\n",
    "  classname = m.__class__.__name__\n",
    "  if classname.find('Conv')!=-1 or classname.find('Linear')!=-1:\n",
    "    nn.init.normal_(m.weight.data,0.0,0.02)\n",
    "  elif classname.find('BatchNorm')!=-1:\n",
    "    nn.init.normal_(m.weight.data,1.0,0.02)\n",
    "    nn.init.constant_(m.bias.data,0)\n",
    "\n"
   ]
  },
  {
   "cell_type": "code",
   "execution_count": 6,
   "id": "1VaA1XPRXb84",
   "metadata": {
    "colab": {
     "base_uri": "https://localhost:8080/"
    },
    "id": "1VaA1XPRXb84",
    "outputId": "5427cccd-fb8c-4588-b717-5a63a98062b0"
   },
   "outputs": [
    {
     "name": "stdout",
     "output_type": "stream",
     "text": [
      "Random Seed:  3734\n"
     ]
    },
    {
     "data": {
      "text/plain": [
       "<torch._C.Generator at 0x7f8a9417a550>"
      ]
     },
     "execution_count": 6,
     "metadata": {},
     "output_type": "execute_result"
    }
   ],
   "source": [
    "PATH = os.path.join(os.getcwd(),'data')\n",
    "log_PATH = os.path.join(os.getcwd(), \"logs_3\")\n",
    "\n",
    "divergence = \"CHI\" # GAN, KLD, JSD, RKL,SQH, CHI \n",
    "modelName = \"f-GAN-\"+divergence\n",
    "batch_size =128\n",
    "workers = 3\n",
    "epochs = 200\n",
    "\n",
    "latent_dim =100\n",
    "\n",
    "gf_dim = 64\n",
    "df_dim = 64\n",
    "\n",
    "in_h = 64\n",
    "in_w =64\n",
    "c_dim = 3\n",
    "\n",
    "TINY = 1e-6\n",
    "\n",
    "device = torch.device(\"cuda\" if torch.cuda.is_available() else \"cpu\")\n",
    "\n",
    "manualSeed = 3734\n",
    "print(\"Random Seed: \",manualSeed)\n",
    "random.seed(manualSeed)\n",
    "torch.manual_seed(manualSeed)"
   ]
  },
  {
   "cell_type": "code",
   "execution_count": 7,
   "id": "340qpwtJYbCI",
   "metadata": {
    "id": "340qpwtJYbCI"
   },
   "outputs": [],
   "source": [
    "image_size = 64\n",
    "batch_size = 128\n",
    "stats = (0.5, 0.5, 0.5), (0.5, 0.5, 0.5)\n",
    "\n",
    "train_ds = ImageFolder(\"archive/\", transform=T.Compose([\n",
    "    T.Resize(image_size),\n",
    "    T.CenterCrop(image_size),\n",
    "    T.ToTensor(),\n",
    "    T.Normalize(*stats)]))\n",
    "\n",
    "train_dl = DataLoader(train_ds, batch_size, shuffle=True, num_workers=2, pin_memory=True)"
   ]
  },
  {
   "cell_type": "code",
   "execution_count": 8,
   "id": "4_laREhaYgi1",
   "metadata": {
    "id": "4_laREhaYgi1"
   },
   "outputs": [],
   "source": [
    "def get_default_device():\n",
    "    \"\"\"Pick GPU if available, else CPU\"\"\"\n",
    "    if torch.cuda.is_available():\n",
    "        return torch.device('cuda')\n",
    "    else:\n",
    "        return torch.device('cpu')\n",
    "    \n",
    "def to_device(data, device):\n",
    "    \"\"\"Move tensor(s) to chosen device\"\"\"\n",
    "    if isinstance(data, (list,tuple)):\n",
    "        return [to_device(x, device) for x in data]\n",
    "    return data.to(device, non_blocking=True)\n",
    "\n",
    "class DeviceDataLoader():\n",
    "    \"\"\"Wrap a dataloader to move data to a device\"\"\"\n",
    "    def __init__(self, dl, device):\n",
    "        self.dl = dl\n",
    "        self.device = device\n",
    "        \n",
    "    def __iter__(self):\n",
    "        \"\"\"Yield a batch of data after moving it to device\"\"\"\n",
    "        for b in self.dl: \n",
    "            yield to_device(b, self.device)\n",
    "\n",
    "    def __len__(self):\n",
    "        \"\"\"Number of batches\"\"\"\n",
    "        return len(self.dl)"
   ]
  },
  {
   "cell_type": "code",
   "execution_count": 9,
   "id": "IyfJXDmaZMFS",
   "metadata": {
    "id": "IyfJXDmaZMFS"
   },
   "outputs": [],
   "source": [
    "def conv_bn_layer(in_channels,out_channels,kernel_size,stride=1,padding=0):\n",
    "    return nn.Sequential(\n",
    "        nn.Conv2d(in_channels,out_channels,kernel_size,stride=stride,padding=padding),\n",
    "        nn.BatchNorm2d(out_channels,momentum=0.1,eps=1e-5),\n",
    "    )\n",
    "def tconv_bn_layer(in_channels,out_channels,kernel_size,stride=1,padding=0):\n",
    "  return nn.Sequential(\n",
    "      nn.ConvTranspose2d(in_channels,out_channels,kernel_size,stride=stride,padding=padding),\n",
    "      nn.BatchNorm2d(out_channels,momentum=0.1,eps=1e-5),\n",
    "  )\n",
    "def tconv_layer(in_channels,out_channels,kernel_size,stride=1,padding=0):\n",
    "  return nn.ConvTranspose2d(in_channels,out_channels,kernel_size,stride=stride,padding=padding)\n",
    "\n",
    "def conv_layer(in_channels,out_channels,kernel_size,stride=1,padding=0):\n",
    "    return nn.Conv2d(in_channels,out_channels,kernel_size,stride=stride,padding=padding)\n",
    "\n",
    "def fc_layer(in_features,out_features):\n",
    "  return nn.Linear(in_features,out_features)\n",
    "\n",
    "def fc_bn_layer(in_features,out_features):\n",
    "  return nn.Sequential(\n",
    "      nn.Linear(in_features,out_features),\n",
    "      nn.BatchNorm1d(out_features)\n",
    "  )\n"
   ]
  },
  {
   "cell_type": "code",
   "execution_count": 10,
   "id": "n2n9dSYCZQpJ",
   "metadata": {
    "id": "n2n9dSYCZQpJ"
   },
   "outputs": [],
   "source": [
    "def conv_out_size_same(size, stride):\n",
    "  return int(math.ceil(float(size) / float(stride)))\n",
    "s_h, s_w = in_h, in_w\n",
    "s_h2, s_w2 = conv_out_size_same(s_h, 2), conv_out_size_same(s_w, 2)\n",
    "s_h4, s_w4 = conv_out_size_same(s_h2, 2), conv_out_size_same(s_w2, 2)\n",
    "s_h8, s_w8 = conv_out_size_same(s_h4, 2), conv_out_size_same(s_w4, 2)\n",
    "s_h16, s_w16 = conv_out_size_same(s_h8, 2), conv_out_size_same(s_w8, 2)"
   ]
  },
  {
   "cell_type": "code",
   "execution_count": 11,
   "id": "9DPcUzlQapwY",
   "metadata": {
    "id": "9DPcUzlQapwY"
   },
   "outputs": [],
   "source": [
    "class QLOSS(nn.Module):\n",
    "  def __init__(self,divergence=\"GAN\"):\n",
    "    super(QLOSS,self).__init__()\n",
    "    self.conjugate = Conjugate_f(divergence)\n",
    "    self.activation = Activation_g(divergence)\n",
    "  def forward(self,v):\n",
    "    return torch.mean(-self.conjugate(self.activation(v)))"
   ]
  },
  {
   "cell_type": "code",
   "execution_count": 12,
   "id": "jbWc-2xfaoM2",
   "metadata": {
    "id": "jbWc-2xfaoM2"
   },
   "outputs": [],
   "source": [
    "class VLOSS(nn.Module):\n",
    "  def __init__(self,divergence=\"GAN\"):\n",
    "    super(VLOSS,self).__init__()\n",
    "    self.activation = Activation_g(divergence)\n",
    "  def forward(self,v):\n",
    "    return torch.mean(self.activation(v))"
   ]
  },
  {
   "cell_type": "code",
   "execution_count": 13,
   "id": "ZKBzcRZRamdp",
   "metadata": {
    "id": "ZKBzcRZRamdp"
   },
   "outputs": [],
   "source": [
    "class Conjugate_f(nn.Module):\n",
    "  def __init__(self,divergence=\"GAN\"):\n",
    "    super(Conjugate_f,self).__init__()\n",
    "    self.divergence = divergence\n",
    "    self.div = 0\n",
    "  def ret_div(self):\n",
    "    return self.div\n",
    "  def forward(self,t):\n",
    "    divergence= self.divergence\n",
    "    if divergence == \"KLD\":\n",
    "      self.div = torch.exp(t-1)\n",
    "    elif divergence == \"RKL\":\n",
    "      return -1 -torch.log(-t)\n",
    "    elif divergence == \"CHI\":\n",
    "      self.div = 0.25*t**2+t\n",
    "      return 0.25*t**2+t\n",
    "    elif divergence == \"SQH\":\n",
    "      return t/(torch.tensor(1.)-t)\n",
    "    elif divergence == \"JSD\":\n",
    "      return -torch.log(2.0-torch.exp(t))\n",
    "    elif divergence == \"GAN\":\n",
    "      return  -torch.log(1.0-torch.exp(t))"
   ]
  },
  {
   "cell_type": "code",
   "execution_count": 14,
   "id": "evAplzCVakyB",
   "metadata": {
    "id": "evAplzCVakyB"
   },
   "outputs": [],
   "source": [
    "class Activation_g(nn.Module):\n",
    "  def __init__(self,divergence=\"GAN\"):\n",
    "    super(Activation_g,self).__init__()\n",
    "    self.divergence =divergence\n",
    "    self.div = 0\n",
    "  def ret_div(self):\n",
    "    return self.div\n",
    "  def forward(self,v):\n",
    "    divergence = self.divergence\n",
    "    if divergence == \"KLD\":\n",
    "      return v\n",
    "    elif divergence == \"RKL\":\n",
    "      return -torch.exp(-v)\n",
    "    elif divergence == \"CHI\":\n",
    "      self.div = v\n",
    "      return v\n",
    "    elif divergence == \"SQH\":\n",
    "      return 1-torconfig.DEVICEch.exp(-v)\n",
    "    elif divergence == \"JSD\":\n",
    "      return torch.log(torch.tensor(2.))-torch.log(1.0+torch.exp(-v))\n",
    "    elif divergence == \"GAN\":\n",
    "      return -torch.log(1.0+torch.exp(-v)) # log sigmoid"
   ]
  },
  {
   "cell_type": "code",
   "execution_count": 15,
   "id": "6NALqUgZXinw",
   "metadata": {
    "id": "6NALqUgZXinw"
   },
   "outputs": [],
   "source": [
    "import torch.optim as optim\n",
    "\n",
    "Q_net = Q().to(device)\n",
    "V_net = V().to(device)\n",
    "V_net_lern = V().to(device)\n",
    "\n",
    "Q_criterion =QLOSS(divergence)\n",
    "V_criterion =VLOSS(divergence)\n",
    "\n",
    "Q_optimizer = optim.Adam(Q_net.parameters(),lr=2e-4,betas=(0.5,0.9))\n",
    "V_optimizer = optim.Adam(V_net.parameters(),lr=2e-4,betas=(0.5,0.9))\n",
    "\n",
    "fixed_noise = torch.randn(batch_size, latent_dim,device=device)"
   ]
  },
  {
   "cell_type": "code",
   "execution_count": 175,
   "id": "0e1aa71b",
   "metadata": {
    "id": "0e1aa71b"
   },
   "outputs": [],
   "source": [
    "epoch = 30\n",
    "utils.load_checkpoint(f'./log_fin/checkpoint/my_checkpoint_G_fin{epoch}.pth.tar', Q_net, Q_optimizer, 2e-4)\n",
    "utils.load_checkpoint(f'./log_fin/checkpoint/my_checkpoint_V_fin{epoch}.pth.tar', V_net, V_optimizer, 2e-4)"
   ]
  },
  {
   "cell_type": "code",
   "execution_count": 176,
   "id": "RxXk0_VFE7xu",
   "metadata": {
    "id": "RxXk0_VFE7xu"
   },
   "outputs": [],
   "source": [
    "utils.load_checkpoint(f'./log_fin/checkpoint/my_checkpoint_V_fin{40}.pth.tar', V_net_lern, V_optimizer, 2e-4)"
   ]
  },
  {
   "cell_type": "code",
   "execution_count": 177,
   "id": "4fhbX0GC8g4R",
   "metadata": {
    "id": "4fhbX0GC8g4R"
   },
   "outputs": [],
   "source": [
    "import torch.nn.functional as F"
   ]
  },
  {
   "cell_type": "code",
   "execution_count": 178,
   "id": "85cf2a8d",
   "metadata": {
    "id": "85cf2a8d"
   },
   "outputs": [],
   "source": [
    "fixed_noise = torch.randn(batch_size, latent_dim,device=device)\n",
    "fake = Q_net(fixed_noise)"
   ]
  },
  {
   "cell_type": "code",
   "execution_count": 179,
   "id": "1497637d",
   "metadata": {
    "colab": {
     "base_uri": "https://localhost:8080/",
     "height": 302
    },
    "id": "1497637d",
    "outputId": "3b562ba0-95e0-4603-f9aa-f09ccf3662c8"
   },
   "outputs": [
    {
     "name": "stderr",
     "output_type": "stream",
     "text": [
      "Clipping input data to the valid range for imshow with RGB data ([0..1] for floats or [0..255] for integers).\n"
     ]
    },
    {
     "data": {
      "text/plain": [
       "<matplotlib.image.AxesImage at 0x7f89dd68d100>"
      ]
     },
     "execution_count": 179,
     "metadata": {},
     "output_type": "execute_result"
    },
    {
     "data": {
      "image/png": "[encoded data removed]",
      "text/plain": [
       "<Figure size 432x288 with 1 Axes>"
      ]
     },
     "metadata": {
      "needs_background": "light"
     },
     "output_type": "display_data"
    }
   ],
   "source": [
    "plt.imshow(fake[0].cpu().detach().permute(1, 2, 0))"
   ]
  },
  {
   "cell_type": "code",
   "execution_count": 180,
   "id": "d3c2c6ee",
   "metadata": {
    "id": "d3c2c6ee"
   },
   "outputs": [],
   "source": [
    "etas = [0.00001, 0.002, 0.006, 0.008, 0.01, 0.09, 0.1, 0.9]"
   ]
  },
  {
   "cell_type": "code",
   "execution_count": 181,
   "id": "da3ea389",
   "metadata": {
    "id": "da3ea389"
   },
   "outputs": [],
   "source": [
    "critic_fake = V_net(fake)"
   ]
  },
  {
   "cell_type": "code",
   "execution_count": 182,
   "id": "xptMtxIwEtxP",
   "metadata": {
    "colab": {
     "base_uri": "https://localhost:8080/"
    },
    "id": "xptMtxIwEtxP",
    "outputId": "b7e9066b-39d3-4a88-9877-3a355d8b7cef"
   },
   "outputs": [
    {
     "data": {
      "text/plain": [
       "tensor(10.3297, device='cuda:0', grad_fn=<NegBackward0>)"
      ]
     },
     "execution_count": 182,
     "metadata": {},
     "output_type": "execute_result"
    }
   ],
   "source": [
    "V_net_lern.zero_grad()\n",
    "v = V_net_lern(fake)\n",
    "loss_real = -V_criterion(v)\n",
    "loss_real"
   ]
  },
  {
   "cell_type": "code",
   "execution_count": 183,
   "id": "bf049d79",
   "metadata": {
    "id": "bf049d79"
   },
   "outputs": [],
   "source": [
    "gradients = torch.autograd.grad(outputs=critic_fake, inputs=fake,\n",
    "                              grad_outputs=torch.ones(critic_fake.size()).cuda(),\n",
    "                              create_graph=True, retain_graph=True, only_inputs=True)[0]"
   ]
  },
  {
   "cell_type": "code",
   "execution_count": 184,
   "id": "K0F1zabxA-rU",
   "metadata": {
    "id": "K0F1zabxA-rU"
   },
   "outputs": [],
   "source": [
    "log_PATH = os.path.join(os.getcwd(), \"images_fin\")"
   ]
  },
  {
   "cell_type": "code",
   "execution_count": 185,
   "id": "f4b23d22",
   "metadata": {
    "id": "f4b23d22"
   },
   "outputs": [],
   "source": [
    "new = []\n",
    "for eta in etas:\n",
    "    new.append(fake - gradients * eta)"
   ]
  },
  {
   "cell_type": "code",
   "execution_count": 186,
   "id": "18be2181",
   "metadata": {
    "colab": {
     "base_uri": "https://localhost:8080/",
     "height": 302
    },
    "id": "18be2181",
    "outputId": "098271d4-d030-4d6b-e106-615a7175524c"
   },
   "outputs": [
    {
     "name": "stderr",
     "output_type": "stream",
     "text": [
      "Clipping input data to the valid range for imshow with RGB data ([0..1] for floats or [0..255] for integers).\n"
     ]
    },
    {
     "data": {
      "text/plain": [
       "<matplotlib.image.AxesImage at 0x7f89dd664550>"
      ]
     },
     "execution_count": 186,
     "metadata": {},
     "output_type": "execute_result"
    },
    {
     "data": {
      "image/png": "[encoded data removed]",
      "text/plain": [
       "<Figure size 432x288 with 1 Axes>"
      ]
     },
     "metadata": {
      "needs_background": "light"
     },
     "output_type": "display_data"
    }
   ],
   "source": [
    "plt.imshow(new[4][0].cpu().detach().permute(1, 2, 0))\n"
   ]
  },
  {
   "cell_type": "code",
   "execution_count": 187,
   "id": "64WOjHrNKDR9",
   "metadata": {
    "colab": {
     "base_uri": "https://localhost:8080/",
     "height": 302
    },
    "id": "64WOjHrNKDR9",
    "outputId": "e7e9f3bd-ca96-4ee0-a1c6-2394650aba3b"
   },
   "outputs": [
    {
     "name": "stderr",
     "output_type": "stream",
     "text": [
      "Clipping input data to the valid range for imshow with RGB data ([0..1] for floats or [0..255] for integers).\n"
     ]
    },
    {
     "data": {
      "text/plain": [
       "<matplotlib.image.AxesImage at 0x7f89dd5c5d30>"
      ]
     },
     "execution_count": 187,
     "metadata": {},
     "output_type": "execute_result"
    },
    {
     "data": {
      "image/png": "[encoded data removed]",
      "text/plain": [
       "<Figure size 432x288 with 1 Axes>"
      ]
     },
     "metadata": {
      "needs_background": "light"
     },
     "output_type": "display_data"
    }
   ],
   "source": [
    "plt.imshow(fake[0].cpu().detach().permute(1, 2, 0))"
   ]
  },
  {
   "cell_type": "code",
   "execution_count": 188,
   "id": "CH902gaJB5nx",
   "metadata": {
    "id": "CH902gaJB5nx"
   },
   "outputs": [],
   "source": [
    "transform_PIL=transforms.ToPILImage()"
   ]
  },
  {
   "cell_type": "code",
   "execution_count": 189,
   "id": "2145c130",
   "metadata": {},
   "outputs": [],
   "source": [
    "losses_per_epoh = []"
   ]
  },
  {
   "cell_type": "code",
   "execution_count": 190,
   "id": "ce5bb2b6",
   "metadata": {
    "colab": {
     "base_uri": "https://localhost:8080/"
    },
    "id": "ce5bb2b6",
    "outputId": "e519f1a5-bd8b-483c-bd62-5e12fd534cf5"
   },
   "outputs": [
    {
     "name": "stdout",
     "output_type": "stream",
     "text": [
      "1e-05    10.33319091796875\n",
      "0.002    10.994125366210938\n",
      "0.006    11.9827880859375\n",
      "0.008    12.338905334472656\n",
      "0.01    12.626110076904297\n",
      "0.09    16.09326934814453\n",
      "0.1    16.35556411743164\n",
      "0.9    10.935697555541992\n"
     ]
    }
   ],
   "source": [
    "losses = []\n",
    "for i, news in enumerate(new):\n",
    "    im = vutils.make_grid(torch.reshape(news[0],(3,64,64))[:64], padding=2, normalize=True)\n",
    "    plt.imshow(news[0].cpu().detach().permute(1, 2, 0))\n",
    "    transform_PIL(im).save(os.path.join(log_PATH,'4'+str(epoch)+'_epoh_'+str(etas[i])+\"_eta_image.png\"))\n",
    "    v = V_net_lern(news)\n",
    "    loss_real = -V_criterion(v)\n",
    "    losses.append(float(loss_real.cpu().detach()))\n",
    "    print(etas[i], '  ', float(loss_real.cpu().detach()))"
   ]
  },
  {
   "cell_type": "code",
   "execution_count": 212,
   "id": "521b3a4b",
   "metadata": {},
   "outputs": [
    {
     "data": {
      "text/plain": [
       "<matplotlib.legend.Legend at 0x7f89dd3bcc10>"
      ]
     },
     "execution_count": 212,
     "metadata": {},
     "output_type": "execute_result"
    },
    {
     "data": {
      "image/png": "[encoded data removed]",
      "text/plain": [
       "<Figure size 720x288 with 1 Axes>"
      ]
     },
     "metadata": {
      "needs_background": "light"
     },
     "output_type": "display_data"
    }
   ],
   "source": [
    "epohs_s = [5,20,30]\n",
    "fig = plt.figure(3, figsize=(10,4))\n",
    "for i, losses in enumerate(losses_per_epoh):\n",
    "    plt.plot(etas, [abs(number) for number in losses], label=str(epohs_s[i])+' epoch')\n",
    "plt.xlabel('eta')\n",
    "plt.ylabel('loss')\n",
    "plt.legend()\n",
    "    \n",
    "    \n",
    "    "
   ]
  },
  {
   "cell_type": "code",
   "execution_count": null,
   "id": "f5fc913b",
   "metadata": {},
   "outputs": [],
   "source": []
  }
 ],
 "metadata": {
  "colab": {
   "name": "Gradient_visualisation.ipynb",
   "provenance": []
  },
  "kernelspec": {
   "display_name": "Python 3 (ipykernel)",
   "language": "python",
   "name": "python3"
  },
  "language_info": {
   "codemirror_mode": {
    "name": "ipython",
    "version": 3
   },
   "file_extension": ".py",
   "mimetype": "text/x-python",
   "name": "python",
   "nbconvert_exporter": "python",
   "pygments_lexer": "ipython3",
   "version": "3.8.10"
  }
 },
 "nbformat": 4,
 "nbformat_minor": 5
}
